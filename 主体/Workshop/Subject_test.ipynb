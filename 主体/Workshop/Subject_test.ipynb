{
 "cells": [
  {
   "cell_type": "code",
   "execution_count": 1,
   "id": "c1366c22",
   "metadata": {},
   "outputs": [],
   "source": [
    "import MeCab\n",
    "import re\n",
    "from gensim.models import word2vec\n",
    "from matplotlib import pyplot\n",
    "from sklearn.decomposition import PCA\n",
    "import numpy as np"
   ]
  },
  {
   "cell_type": "code",
   "execution_count": 2,
   "id": "9c78a90f",
   "metadata": {},
   "outputs": [
    {
     "name": "stdout",
     "output_type": "stream",
     "text": [
      "142\n"
     ]
    }
   ],
   "source": [
    "stop_words = []\n",
    "with open('ja_stopwords.txt','r',encoding='utf-8')as f_stopwords:\n",
    "    for line in f_stopwords:\n",
    "        line  =line.replace('\\r','').replace('\\n','').strip()\n",
    "        stop_words.append(line)\n",
    "\n",
    "stop_words = set(stop_words)  #去重\n",
    "print(len(stop_words))"
   ]
  },
  {
   "cell_type": "code",
   "execution_count": 3,
   "id": "fccafc46",
   "metadata": {
    "scrolled": true
   },
   "outputs": [
    {
     "name": "stdout",
     "output_type": "stream",
     "text": [
      "['ノルウェー', '森', '村上', '春樹', '第', '一', '章', '僕', '三十', '七', '歳', 'ボーイング', 'シート', '座っ', '巨大', '飛行', '機', 'ぶ厚い', '雨雲', 'くぐり抜け', '降下', 'ハンブルク', '空港', '着陸', 'しよう', '十', '一', '月', '冷ややか', '雨']\n",
      "text file has 76346 words\n",
      "text file has 8875 vocabularies\n",
      "[['ノルウェー', 'の', '森'], ['村上', '春樹'], ['第', '一', '章'], ['僕', 'は', '三十', '七', '歳', 'で', 'その', 'とき', 'ボーイング', 'の', 'シート', 'に', '座っ', 'て', 'い', 'た', 'その', '巨大', 'な', '飛行', '機', 'は', 'ぶ厚い', '雨雲', 'を', 'くぐり抜け', 'て', '降下', 'し', 'ハンブルク', '空港', 'に', '着陸', 'しよう', 'と', 'し', 'て', 'いる', 'ところ', 'だっ', 'た', '十', '一', '月', 'の', '冷ややか', 'な', '雨', 'が', '大地', 'を', '暗く', '染め', '雨合羽', 'を', '着', 'た', '整備', '工', 'たち', 'や', 'のっぺり', 'と', 'し', 'た', '空港', 'ビル', 'の', '上', 'に', '立っ', 'た', '旗', 'や', 'の', '広告', '板', 'や', 'そんな', '何', 'も', 'か', 'も', 'を', 'フランドル', '派', 'の', '陰うつ', 'な', '絵', 'の', '背景', 'の', 'よう', 'に', '見せ', 'て', 'い', 'た', 'やれ', 'やれ', 'また', 'ドイツ', 'か', 'と', '僕', 'は', '思っ', 'た'], ['飛行', '機', 'が', '着地', 'を', '完了', 'する', 'と', '禁煙', 'の', 'サイン', 'が', '消え', '天井', 'の', 'スピーカー', 'から', '小さな', '音', 'で', 'が', '流れ', 'はじめ', 'た', 'それ', 'は', 'どこ', 'か', 'の', 'オーケストラ', 'が', '甘く', '演奏', 'する', 'ビートルズ', 'の', 'ノルウェイ', 'の', '森', 'だっ', 'た', 'そして', 'その', 'メロディー', 'は', 'いつ', 'も', 'の', 'よう', 'に', '僕', 'を', '混乱', 'さ', 'せ', 'た', 'いや', 'いつ', 'も', 'と', 'は', '比べもの', 'に', 'なら', 'ない', 'くらい', '激しく', '僕', 'を', '混乱', 'さ', 'せ', '揺り動かし', 'た'], ['僕', 'は', '頭', 'が', 'はりさけ', 'て', 'しまわ', 'ない', 'よう', 'に', '身', 'を', 'かがめ', 'て', '両手', 'で', '顔', 'を', '覆い', 'その', 'まま', 'じっと', 'し', 'て', 'い', 'た', 'やがて', 'ドイツ', '人', 'の', 'スチュワーデス', 'が', 'やっ', 'て', 'き', 'て', '気分', 'が', 'わるい', 'の', 'か', 'と', '英語', 'で', '訊い', 'た', '大丈夫', '少し', '目まい', 'が', 'し', 'た', 'だけ', 'だ', 'と', '僕', 'は', '答え', 'た'], ['本当', 'に', '大丈夫'], ['大丈夫', 'です', 'ありがとう', 'と', '僕', 'は', '言っ', 'た', 'スチュワーデス', 'は', 'にっこり', 'と', '笑っ', 'て', '行っ', 'て', 'しまい', '音楽', 'は', 'ビリー', '・', 'ジョエル', 'の', '曲', 'に', '変っ', 'た', '僕', 'は', '顔', 'を', '上げ', 'て', '北海', 'の', '上空', 'に', '浮かん', 'だ', '暗い', '雲', 'を', '眺め', '自分', 'が', 'これ', 'まで', 'の', '人生', 'の', '過程', 'で', '失っ', 'て', 'き', 'た', '多く', 'の', 'もの', 'の', 'こと', 'を', '考え', 'た', '失わ', 'れ', 'た', '時間', '死に', 'あるいは', '去っ', 'て', 'いっ', 'た', '人', 'もう', '戻る', 'こと', 'の', 'ない', '想い'], ['飛行', '機', 'が', '完全', 'に', 'ストップ', 'し', 'て', '人', 'が', 'シート', 'ベルト', 'を', '外し', '物入れ', 'の', '中', 'から', 'バッグ', 'やら', '上着', 'やら', 'を', 'とりだし', '始める', 'まで', '僕', 'は', 'ずっと', 'あの', '草原', 'の', '中', 'に', 'い', 'た', '僕', 'は', '草', 'の', '匂い', 'を', 'かぎ', '肌', 'に', '風', 'を', '感じ', '鳥', 'の', '声', 'を', '聴い', 'た', 'それ', 'は', '一', '九', '六', '九', '年', 'の', '秋', 'で', '僕', 'は', 'もう', 'すぐ', '二十', '歳', 'に', 'なろう', 'と', 'し', 'て', 'い', 'た'], ['前', 'と', '同じ', 'スチュワーデス', 'が', 'やっ', 'て', 'き', 'て', '僕', 'の', '隣り', 'に', '腰', 'を', '下ろし', 'もう', '大丈夫', 'か', 'と', '訊ね', 'た']]\n"
     ]
    }
   ],
   "source": [
    "tagger_owakati = MeCab.Tagger('-Owakati')\n",
    "raw_word_list = []\n",
    "sentence_owakati = []\n",
    "rules = u'([\\u3040-\\u9faf]+)'\n",
    "pattern = re.compile(rules)#正则\n",
    "count = 0\n",
    "f_writer = open('挪威的森林_pro.txt','w',encoding = 'utf-8')\n",
    "with open('挪威的森林.txt','r',encoding = 'utf-8')as f_reader:\n",
    "    lines = f_reader\n",
    "    for line in lines:\n",
    "        line = line.replace('\\r',' ').replace('\\n',' ').strip()\n",
    "        if line == '' or line is None:\n",
    "            continue\n",
    "        line = ''.join(tagger_owakati.parse(line))\n",
    "        seg_list = pattern.findall(line)\n",
    "        sentence_owakati.append(seg_list)\n",
    "        word_list = []\n",
    "        for word in seg_list:\n",
    "            if word not in stop_words:\n",
    "                word_list.append(word)\n",
    "        if len(word_list)>0:\n",
    "            raw_word_list.extend(word_list)\n",
    "            line = ' '.join(word_list)\n",
    "            f_writer.write(line+'\\n')\n",
    "            f_writer.flush()\n",
    "\n",
    "f_writer.close()\n",
    "print(raw_word_list[:30])\n",
    "print('text file has',len(raw_word_list),'words')\n",
    "print('text file has',len(set(raw_word_list)),'vocabularies')\n",
    "print(sentence_owakati[:10])\n",
    "vocabulary_size = len(set(raw_word_list))\n",
    "#     for line in f_reader:\n",
    "#         line = line.replace('\\r','').replace('\\n','').strip()"
   ]
  },
  {
   "cell_type": "code",
   "execution_count": 4,
   "id": "28f0bdc5",
   "metadata": {
    "scrolled": true
   },
   "outputs": [
    {
     "name": "stdout",
     "output_type": "stream",
     "text": [
      "[['ノルウェー', '森'], ['村上', '春樹'], ['第', '一', '章'], ['僕', '三十', '七', '歳', 'ボーイング', 'シート', '座っ', '巨大', '飛行', '機', 'ぶ厚い', '雨雲', 'くぐり抜け', '降下', 'ハンブルク', '空港', '着陸', 'しよう', '十', '一', '月', '冷ややか', '雨', '大地', '暗く', '染め', '雨合羽', '着', '整備', '工', 'のっぺり', '空港', 'ビル', '上', '立っ', '旗', '広告', '板', 'そんな', 'フランドル', '派', '陰うつ', '絵', '背景', '見せ', 'やれ', 'やれ', 'ドイツ', '僕', '思っ'], ['飛行', '機', '着地', '完了', '禁煙', 'サイン', '消え', '天井', 'スピーカー', '小さな', '音', '流れ', 'はじめ', 'オーケストラ', '甘く', '演奏', 'ビートルズ', 'ノルウェイ', '森', 'メロディー', 'いつ', '僕', '混乱', 'いや', 'いつ', '比べもの', 'くらい', '激しく', '僕', '混乱', '揺り動かし'], ['僕', '頭', 'はりさけ', 'しまわ', '身', 'かがめ', '両手', '顔', '覆い', 'まま', 'じっと', 'やがて', 'ドイツ', '人', 'スチュワーデス', 'やっ', '気分', 'わるい', '英語', '訊い', '大丈夫', '少し', '目まい', 'だけ', '僕', '答え'], ['本当', '大丈夫'], ['大丈夫', 'ありがとう', '僕', '言っ', 'スチュワーデス', 'にっこり', '笑っ', '行っ', 'しまい', '音楽', 'ビリー', '・', 'ジョエル', '曲', '変っ', '僕', '顔', '上げ', '北海', '上空', '浮かん', '暗い', '雲', '眺め', '自分', '人生', '過程', '失っ', '多く', '考え', '失わ', '時間', '死に', 'あるいは', '去っ', 'いっ', '人', 'もう', '戻る', '想い'], ['飛行', '機', '完全', 'ストップ', '人', 'シート', 'ベルト', '外し', '物入れ', '中', 'バッグ', 'やら', '上着', 'やら', 'とりだし', '始める', '僕', 'ずっと', '草原', '中', '僕', '草', '匂い', 'かぎ', '肌', '風', '感じ', '鳥', '声', '聴い', '一', '九', '六', '九', '年', '秋', '僕', 'もう', 'すぐ', '二十', '歳', 'なろう'], ['前', '同じ', 'スチュワーデス', 'やっ', '僕', '隣り', '腰', '下ろし', 'もう', '大丈夫', '訊ね']]\n"
     ]
    }
   ],
   "source": [
    "text = []\n",
    "with open('挪威的森林_pro.txt','r',encoding = 'utf-8')as f:\n",
    "    lines = f\n",
    "    for line in lines:\n",
    "        line = line.replace('\\n',' ').strip()\n",
    "        text.append(line.split(' '))\n",
    "        \n",
    "print(text[:10])\n",
    "        "
   ]
  },
  {
   "cell_type": "code",
   "execution_count": 5,
   "id": "943be995",
   "metadata": {},
   "outputs": [],
   "source": [
    "model = word2vec.Word2Vec(text,window=3,vector_size=200,epochs=5,min_count=3)"
   ]
  },
  {
   "cell_type": "code",
   "execution_count": 16,
   "id": "f55ae52c",
   "metadata": {},
   "outputs": [
    {
     "name": "stdout",
     "output_type": "stream",
     "text": [
      "性 0.9946619868278503\n",
      "風 0.994656503200531\n",
      "結局 0.9945735335350037\n",
      "缶 0.9945663809776306\n",
      "急 0.9945502877235413\n",
      "つづけ 0.9945431351661682\n",
      "音 0.9945380091667175\n",
      "次 0.9945201277732849\n",
      "入れ 0.9945188760757446\n",
      "持っ 0.9945164918899536\n",
      "少し 0.994504988193512\n",
      "だり 0.9944945573806763\n",
      "しまっ 0.9944899678230286\n",
      "我 0.9944837093353271\n",
      "まま 0.9944828748703003\n",
      "女の子 0.9944807887077332\n",
      "草原 0.9944742321968079\n",
      "つけ 0.9944732785224915\n",
      "風景 0.9944725036621094\n",
      "空気 0.9944705367088318\n"
     ]
    }
   ],
   "source": [
    "for e in model.wv.most_similar(positive=['聞く'],topn = 20):\n",
    "    print(e[0],e[1])"
   ]
  },
  {
   "cell_type": "code",
   "execution_count": 7,
   "id": "1d151a39",
   "metadata": {},
   "outputs": [],
   "source": [
    "model.save('挪威的森林_pro_window=3,vector_size=200,epochs=5.model')"
   ]
  },
  {
   "cell_type": "code",
   "execution_count": 11,
   "id": "2052b194",
   "metadata": {},
   "outputs": [
    {
     "data": {
      "text/plain": [
       "[]"
      ]
     },
     "execution_count": 11,
     "metadata": {},
     "output_type": "execute_result"
    }
   ],
   "source": [
    "li = []\n",
    "\n",
    "X = np.array(li)\n",
    "X.tolist()"
   ]
  },
  {
   "cell_type": "code",
   "execution_count": 8,
   "id": "bc0b13e9",
   "metadata": {},
   "outputs": [],
   "source": [
    "from sklearn.datasets import load_breast_cancer\n",
    "from sklearn.svm import SVC\n",
    "from sklearn.model_selection import train_test_split\n",
    "import matplotlib.pyplot as plt\n",
    "from time import time\n",
    "import datetime\n",
    "from sklearn.preprocessing import StandardScaler"
   ]
  },
  {
   "cell_type": "code",
   "execution_count": 9,
   "id": "c4e3bdd9",
   "metadata": {},
   "outputs": [
    {
     "data": {
      "text/plain": [
       "[1, 1, 1, 1, 1, 1, 1, 1, 1, 0, 0, 0, 0, 0, 0]"
      ]
     },
     "execution_count": 9,
     "metadata": {},
     "output_type": "execute_result"
    }
   ],
   "source": [
    "all_vectors = []\n",
    "labels = []\n",
    "with open('C1.txt','r',encoding='utf-8')as f_C1:\n",
    "    for word in f_C1:\n",
    "        word = word.replace('\\n',' ').strip()\n",
    "        all_vectors.append(model.wv[word].tolist())\n",
    "        labels.append(1)\n",
    "\n",
    "with open('C2.txt','r',encoding='utf-8')as f_C2:\n",
    "    for word in f_C2:\n",
    "        word = word.replace('\\n',' ').strip()\n",
    "        all_vectors.append(model.wv[word].tolist())\n",
    "        labels.append(0)\n",
    "\n",
    "    \n",
    "\n",
    "labels\n"
   ]
  },
  {
   "cell_type": "code",
   "execution_count": 11,
   "id": "258f789e",
   "metadata": {},
   "outputs": [
    {
     "data": {
      "text/plain": [
       "array([1, 1, 1, 1, 1, 1, 1, 1, 1, 0, 0, 0, 0, 0, 0])"
      ]
     },
     "execution_count": 11,
     "metadata": {},
     "output_type": "execute_result"
    },
    {
     "data": {
      "image/png": "[encoded data removed]",
      "text/plain": [
       "<Figure size 640x480 with 1 Axes>"
      ]
     },
     "metadata": {},
     "output_type": "display_data"
    }
   ],
   "source": [
    "X = np.array(all_vectors)\n",
    "y = np.array(labels)\n",
    "\n",
    "X_pca=PCA(n_components=3).fit(X)\n",
    "X_pca.components_\n",
    "new_X = X.dot(PCA(n_components=2).fit(X).components_.T)\n",
    "\n",
    "plt.scatter(new_X[:,0],new_X[:,1],c=y)\n",
    "X = StandardScaler().fit_transform(X)\n",
    "y"
   ]
  },
  {
   "cell_type": "code",
   "execution_count": 13,
   "id": "3d80ce30",
   "metadata": {},
   "outputs": [
    {
     "name": "stdout",
     "output_type": "stream",
     "text": [
      "the accuracy under kernel linear is 0.875000\n",
      "00:00:002000\n",
      "the accuracy under kernel poly is 0.750000\n",
      "00:00:002000\n",
      "the accuracy under kernel rbf is 0.875000\n",
      "00:00:002001\n",
      "the accuracy under kernel sigmoid is 0.875000\n",
      "00:00:002013\n"
     ]
    }
   ],
   "source": [
    "Xtrain,Xtest,Ytrain,Ytest = train_test_split(X,y,test_size=0.5,random_state=420)\n",
    "Kernel = ['linear','poly','rbf','sigmoid']\n",
    "for kernel in Kernel:\n",
    "    time0 = time()\n",
    "    clf = SVC(kernel = kernel,\n",
    "             gamma = 'auto',\n",
    "             degree = 1,\n",
    "             cache_size = 4000#允许使用多大MB内存进行计算\n",
    "             ).fit(Xtrain,Ytrain)\n",
    "    print('the accuracy under kernel %s is %f' % (kernel,clf.score(Xtest,Ytest)))\n",
    "    print(datetime.datetime.fromtimestamp(time()-time0).strftime('%M:%S:%f'))"
   ]
  },
  {
   "cell_type": "code",
   "execution_count": 20,
   "id": "36ba14e5",
   "metadata": {
    "collapsed": true
   },
   "outputs": [
    {
     "ename": "ValueError",
     "evalue": "Expected 2D array, got 1D array instead:\narray=[ 0.00740225 -0.00060684  0.0154914   0.04185415  0.05642638 -0.05980025\n  0.03132426  0.11961728  0.01165303  0.05923001  0.01278996 -0.04524223\n  0.0364403   0.04902193 -0.00147517 -0.04096277 -0.01131244 -0.01951887\n -0.04076281 -0.07598071  0.03856166 -0.04882585 -0.00274985 -0.02446436\n -0.02778006 -0.06688131  0.03146665 -0.07429451 -0.06906028  0.01161224\n  0.02899863  0.02390042  0.04180937  0.01939093  0.04484257  0.05528368\n  0.08249737  0.00835865 -0.03301043 -0.07998975 -0.09213667 -0.03479086\n  0.01244231  0.05987412  0.08283348 -0.01573294 -0.01117092  0.0020028\n  0.08286034  0.05465185  0.00019511  0.00453544 -0.03557225 -0.07162321\n  0.02481771 -0.03808089  0.01969976 -0.04123593 -0.07496928  0.03352774\n -0.0404573   0.00595041 -0.01955279 -0.02137154 -0.06455904  0.02952619\n  0.00648533  0.11487453 -0.08920498  0.08306337 -0.01839175 -0.04759319\n  0.04477442 -0.00149957  0.02353897  0.03695494  0.0569111  -0.0859177\n -0.09718906 -0.00649465 -0.02300217 -0.03155258 -0.06043227  0.11022184\n -0.03384162 -0.00143999 -0.03676051  0.07143147  0.02624944 -0.01567427\n -0.00919802  0.07613655  0.05433426  0.1077731   0.12002726  0.07190107\n -0.00403843 -0.05702122  0.03162637  0.04444126 -0.0819058   0.10078648\n  0.00021429 -0.0165881  -0.09191566 -0.0951907   0.03802162  0.05976304\n -0.01076544 -0.07211087 -0.0128265  -0.10857219 -0.06422639 -0.03529445\n  0.01439636 -0.06657856  0.01825007 -0.08398705 -0.00248368 -0.03122997\n  0.03682434  0.08539966  0.06583509 -0.04682753 -0.02848773  0.03380731\n -0.03725749  0.00866445  0.01624778 -0.03114585  0.02512216  0.01259348\n -0.01954553 -0.0475889  -0.06519596  0.08057088 -0.07282612 -0.09304348\n -0.0107456  -0.11115655  0.05916814 -0.12956743 -0.08434959 -0.00455722\n -0.01782653 -0.02224425 -0.01641033  0.02498358 -0.01947048  0.00617522\n  0.03992978 -0.07317637  0.0055127   0.06522111 -0.1036697   0.08994379\n  0.04515226  0.02779987 -0.01812454  0.01168566  0.03658051  0.03900959\n -0.04175603 -0.01509227 -0.05955069  0.05654202  0.03453068 -0.05571755\n -0.01073673  0.06403903 -0.07421023  0.02393133  0.01203954 -0.05134349\n  0.05309188  0.04063322 -0.08010907  0.00771624 -0.00579119  0.04032541\n  0.00919525  0.02998818  0.00243715  0.00912639  0.04088658  0.02106404\n -0.04393486  0.00538762  0.07567865  0.00284737  0.01060646 -0.03230518\n -0.00551191 -0.02615348  0.03393815  0.01675438  0.05695494 -0.0576898\n -0.02886539 -0.00910961].\nReshape your data either using array.reshape(-1, 1) if your data has a single feature or array.reshape(1, -1) if it contains a single sample.",
     "output_type": "error",
     "traceback": [
      "\u001b[1;31m---------------------------------------------------------------------------\u001b[0m",
      "\u001b[1;31mValueError\u001b[0m                                Traceback (most recent call last)",
      "Cell \u001b[1;32mIn[20], line 2\u001b[0m\n\u001b[0;32m      1\u001b[0m clf \u001b[38;5;241m=\u001b[39m SVC(kernel \u001b[38;5;241m=\u001b[39m \u001b[38;5;124m\"\u001b[39m\u001b[38;5;124mlinear\u001b[39m\u001b[38;5;124m\"\u001b[39m,cache_size\u001b[38;5;241m=\u001b[39m\u001b[38;5;241m4000\u001b[39m)\u001b[38;5;241m.\u001b[39mfit(Xtrain,Ytrain)\n\u001b[1;32m----> 2\u001b[0m clf\u001b[38;5;241m.\u001b[39mpredict(\u001b[43mStandardScaler\u001b[49m\u001b[43m(\u001b[49m\u001b[43m)\u001b[49m\u001b[38;5;241;43m.\u001b[39;49m\u001b[43mfit_transform\u001b[49m\u001b[43m(\u001b[49m\u001b[43mmodel\u001b[49m\u001b[38;5;241;43m.\u001b[39;49m\u001b[43mwv\u001b[49m\u001b[43m[\u001b[49m\u001b[43mword\u001b[49m\u001b[43m]\u001b[49m\u001b[43m)\u001b[49m)\n",
      "File \u001b[1;32m~\\AppData\\Local\\Programs\\Python\\Python310\\lib\\site-packages\\sklearn\\utils\\_set_output.py:142\u001b[0m, in \u001b[0;36m_wrap_method_output.<locals>.wrapped\u001b[1;34m(self, X, *args, **kwargs)\u001b[0m\n\u001b[0;32m    140\u001b[0m \u001b[38;5;129m@wraps\u001b[39m(f)\n\u001b[0;32m    141\u001b[0m \u001b[38;5;28;01mdef\u001b[39;00m \u001b[38;5;21mwrapped\u001b[39m(\u001b[38;5;28mself\u001b[39m, X, \u001b[38;5;241m*\u001b[39margs, \u001b[38;5;241m*\u001b[39m\u001b[38;5;241m*\u001b[39mkwargs):\n\u001b[1;32m--> 142\u001b[0m     data_to_wrap \u001b[38;5;241m=\u001b[39m f(\u001b[38;5;28mself\u001b[39m, X, \u001b[38;5;241m*\u001b[39margs, \u001b[38;5;241m*\u001b[39m\u001b[38;5;241m*\u001b[39mkwargs)\n\u001b[0;32m    143\u001b[0m     \u001b[38;5;28;01mif\u001b[39;00m \u001b[38;5;28misinstance\u001b[39m(data_to_wrap, \u001b[38;5;28mtuple\u001b[39m):\n\u001b[0;32m    144\u001b[0m         \u001b[38;5;66;03m# only wrap the first output for cross decomposition\u001b[39;00m\n\u001b[0;32m    145\u001b[0m         \u001b[38;5;28;01mreturn\u001b[39;00m (\n\u001b[0;32m    146\u001b[0m             _wrap_data_with_container(method, data_to_wrap[\u001b[38;5;241m0\u001b[39m], X, \u001b[38;5;28mself\u001b[39m),\n\u001b[0;32m    147\u001b[0m             \u001b[38;5;241m*\u001b[39mdata_to_wrap[\u001b[38;5;241m1\u001b[39m:],\n\u001b[0;32m    148\u001b[0m         )\n",
      "File \u001b[1;32m~\\AppData\\Local\\Programs\\Python\\Python310\\lib\\site-packages\\sklearn\\utils\\_set_output.py:142\u001b[0m, in \u001b[0;36m_wrap_method_output.<locals>.wrapped\u001b[1;34m(self, X, *args, **kwargs)\u001b[0m\n\u001b[0;32m    140\u001b[0m \u001b[38;5;129m@wraps\u001b[39m(f)\n\u001b[0;32m    141\u001b[0m \u001b[38;5;28;01mdef\u001b[39;00m \u001b[38;5;21mwrapped\u001b[39m(\u001b[38;5;28mself\u001b[39m, X, \u001b[38;5;241m*\u001b[39margs, \u001b[38;5;241m*\u001b[39m\u001b[38;5;241m*\u001b[39mkwargs):\n\u001b[1;32m--> 142\u001b[0m     data_to_wrap \u001b[38;5;241m=\u001b[39m f(\u001b[38;5;28mself\u001b[39m, X, \u001b[38;5;241m*\u001b[39margs, \u001b[38;5;241m*\u001b[39m\u001b[38;5;241m*\u001b[39mkwargs)\n\u001b[0;32m    143\u001b[0m     \u001b[38;5;28;01mif\u001b[39;00m \u001b[38;5;28misinstance\u001b[39m(data_to_wrap, \u001b[38;5;28mtuple\u001b[39m):\n\u001b[0;32m    144\u001b[0m         \u001b[38;5;66;03m# only wrap the first output for cross decomposition\u001b[39;00m\n\u001b[0;32m    145\u001b[0m         \u001b[38;5;28;01mreturn\u001b[39;00m (\n\u001b[0;32m    146\u001b[0m             _wrap_data_with_container(method, data_to_wrap[\u001b[38;5;241m0\u001b[39m], X, \u001b[38;5;28mself\u001b[39m),\n\u001b[0;32m    147\u001b[0m             \u001b[38;5;241m*\u001b[39mdata_to_wrap[\u001b[38;5;241m1\u001b[39m:],\n\u001b[0;32m    148\u001b[0m         )\n",
      "File \u001b[1;32m~\\AppData\\Local\\Programs\\Python\\Python310\\lib\\site-packages\\sklearn\\base.py:848\u001b[0m, in \u001b[0;36mTransformerMixin.fit_transform\u001b[1;34m(self, X, y, **fit_params)\u001b[0m\n\u001b[0;32m    844\u001b[0m \u001b[38;5;66;03m# non-optimized default implementation; override when a better\u001b[39;00m\n\u001b[0;32m    845\u001b[0m \u001b[38;5;66;03m# method is possible for a given clustering algorithm\u001b[39;00m\n\u001b[0;32m    846\u001b[0m \u001b[38;5;28;01mif\u001b[39;00m y \u001b[38;5;129;01mis\u001b[39;00m \u001b[38;5;28;01mNone\u001b[39;00m:\n\u001b[0;32m    847\u001b[0m     \u001b[38;5;66;03m# fit method of arity 1 (unsupervised transformation)\u001b[39;00m\n\u001b[1;32m--> 848\u001b[0m     \u001b[38;5;28;01mreturn\u001b[39;00m \u001b[38;5;28mself\u001b[39m\u001b[38;5;241m.\u001b[39mfit(X, \u001b[38;5;241m*\u001b[39m\u001b[38;5;241m*\u001b[39mfit_params)\u001b[38;5;241m.\u001b[39mtransform(X)\n\u001b[0;32m    849\u001b[0m \u001b[38;5;28;01melse\u001b[39;00m:\n\u001b[0;32m    850\u001b[0m     \u001b[38;5;66;03m# fit method of arity 2 (supervised transformation)\u001b[39;00m\n\u001b[0;32m    851\u001b[0m     \u001b[38;5;28;01mreturn\u001b[39;00m \u001b[38;5;28mself\u001b[39m\u001b[38;5;241m.\u001b[39mfit(X, y, \u001b[38;5;241m*\u001b[39m\u001b[38;5;241m*\u001b[39mfit_params)\u001b[38;5;241m.\u001b[39mtransform(X)\n",
      "File \u001b[1;32m~\\AppData\\Local\\Programs\\Python\\Python310\\lib\\site-packages\\sklearn\\preprocessing\\_data.py:824\u001b[0m, in \u001b[0;36mStandardScaler.fit\u001b[1;34m(self, X, y, sample_weight)\u001b[0m\n\u001b[0;32m    822\u001b[0m \u001b[38;5;66;03m# Reset internal state before fitting\u001b[39;00m\n\u001b[0;32m    823\u001b[0m \u001b[38;5;28mself\u001b[39m\u001b[38;5;241m.\u001b[39m_reset()\n\u001b[1;32m--> 824\u001b[0m \u001b[38;5;28;01mreturn\u001b[39;00m \u001b[38;5;28;43mself\u001b[39;49m\u001b[38;5;241;43m.\u001b[39;49m\u001b[43mpartial_fit\u001b[49m\u001b[43m(\u001b[49m\u001b[43mX\u001b[49m\u001b[43m,\u001b[49m\u001b[43m \u001b[49m\u001b[43my\u001b[49m\u001b[43m,\u001b[49m\u001b[43m \u001b[49m\u001b[43msample_weight\u001b[49m\u001b[43m)\u001b[49m\n",
      "File \u001b[1;32m~\\AppData\\Local\\Programs\\Python\\Python310\\lib\\site-packages\\sklearn\\preprocessing\\_data.py:861\u001b[0m, in \u001b[0;36mStandardScaler.partial_fit\u001b[1;34m(self, X, y, sample_weight)\u001b[0m\n\u001b[0;32m    858\u001b[0m \u001b[38;5;28mself\u001b[39m\u001b[38;5;241m.\u001b[39m_validate_params()\n\u001b[0;32m    860\u001b[0m first_call \u001b[38;5;241m=\u001b[39m \u001b[38;5;129;01mnot\u001b[39;00m \u001b[38;5;28mhasattr\u001b[39m(\u001b[38;5;28mself\u001b[39m, \u001b[38;5;124m\"\u001b[39m\u001b[38;5;124mn_samples_seen_\u001b[39m\u001b[38;5;124m\"\u001b[39m)\n\u001b[1;32m--> 861\u001b[0m X \u001b[38;5;241m=\u001b[39m \u001b[38;5;28;43mself\u001b[39;49m\u001b[38;5;241;43m.\u001b[39;49m\u001b[43m_validate_data\u001b[49m\u001b[43m(\u001b[49m\n\u001b[0;32m    862\u001b[0m \u001b[43m    \u001b[49m\u001b[43mX\u001b[49m\u001b[43m,\u001b[49m\n\u001b[0;32m    863\u001b[0m \u001b[43m    \u001b[49m\u001b[43maccept_sparse\u001b[49m\u001b[38;5;241;43m=\u001b[39;49m\u001b[43m(\u001b[49m\u001b[38;5;124;43m\"\u001b[39;49m\u001b[38;5;124;43mcsr\u001b[39;49m\u001b[38;5;124;43m\"\u001b[39;49m\u001b[43m,\u001b[49m\u001b[43m \u001b[49m\u001b[38;5;124;43m\"\u001b[39;49m\u001b[38;5;124;43mcsc\u001b[39;49m\u001b[38;5;124;43m\"\u001b[39;49m\u001b[43m)\u001b[49m\u001b[43m,\u001b[49m\n\u001b[0;32m    864\u001b[0m \u001b[43m    \u001b[49m\u001b[43mdtype\u001b[49m\u001b[38;5;241;43m=\u001b[39;49m\u001b[43mFLOAT_DTYPES\u001b[49m\u001b[43m,\u001b[49m\n\u001b[0;32m    865\u001b[0m \u001b[43m    \u001b[49m\u001b[43mforce_all_finite\u001b[49m\u001b[38;5;241;43m=\u001b[39;49m\u001b[38;5;124;43m\"\u001b[39;49m\u001b[38;5;124;43mallow-nan\u001b[39;49m\u001b[38;5;124;43m\"\u001b[39;49m\u001b[43m,\u001b[49m\n\u001b[0;32m    866\u001b[0m \u001b[43m    \u001b[49m\u001b[43mreset\u001b[49m\u001b[38;5;241;43m=\u001b[39;49m\u001b[43mfirst_call\u001b[49m\u001b[43m,\u001b[49m\n\u001b[0;32m    867\u001b[0m \u001b[43m\u001b[49m\u001b[43m)\u001b[49m\n\u001b[0;32m    868\u001b[0m n_features \u001b[38;5;241m=\u001b[39m X\u001b[38;5;241m.\u001b[39mshape[\u001b[38;5;241m1\u001b[39m]\n\u001b[0;32m    870\u001b[0m \u001b[38;5;28;01mif\u001b[39;00m sample_weight \u001b[38;5;129;01mis\u001b[39;00m \u001b[38;5;129;01mnot\u001b[39;00m \u001b[38;5;28;01mNone\u001b[39;00m:\n",
      "File \u001b[1;32m~\\AppData\\Local\\Programs\\Python\\Python310\\lib\\site-packages\\sklearn\\base.py:535\u001b[0m, in \u001b[0;36mBaseEstimator._validate_data\u001b[1;34m(self, X, y, reset, validate_separately, **check_params)\u001b[0m\n\u001b[0;32m    533\u001b[0m     \u001b[38;5;28;01mraise\u001b[39;00m \u001b[38;5;167;01mValueError\u001b[39;00m(\u001b[38;5;124m\"\u001b[39m\u001b[38;5;124mValidation should be done on X, y or both.\u001b[39m\u001b[38;5;124m\"\u001b[39m)\n\u001b[0;32m    534\u001b[0m \u001b[38;5;28;01melif\u001b[39;00m \u001b[38;5;129;01mnot\u001b[39;00m no_val_X \u001b[38;5;129;01mand\u001b[39;00m no_val_y:\n\u001b[1;32m--> 535\u001b[0m     X \u001b[38;5;241m=\u001b[39m check_array(X, input_name\u001b[38;5;241m=\u001b[39m\u001b[38;5;124m\"\u001b[39m\u001b[38;5;124mX\u001b[39m\u001b[38;5;124m\"\u001b[39m, \u001b[38;5;241m*\u001b[39m\u001b[38;5;241m*\u001b[39mcheck_params)\n\u001b[0;32m    536\u001b[0m     out \u001b[38;5;241m=\u001b[39m X\n\u001b[0;32m    537\u001b[0m \u001b[38;5;28;01melif\u001b[39;00m no_val_X \u001b[38;5;129;01mand\u001b[39;00m \u001b[38;5;129;01mnot\u001b[39;00m no_val_y:\n",
      "File \u001b[1;32m~\\AppData\\Local\\Programs\\Python\\Python310\\lib\\site-packages\\sklearn\\utils\\validation.py:900\u001b[0m, in \u001b[0;36mcheck_array\u001b[1;34m(array, accept_sparse, accept_large_sparse, dtype, order, copy, force_all_finite, ensure_2d, allow_nd, ensure_min_samples, ensure_min_features, estimator, input_name)\u001b[0m\n\u001b[0;32m    898\u001b[0m     \u001b[38;5;66;03m# If input is 1D raise error\u001b[39;00m\n\u001b[0;32m    899\u001b[0m     \u001b[38;5;28;01mif\u001b[39;00m array\u001b[38;5;241m.\u001b[39mndim \u001b[38;5;241m==\u001b[39m \u001b[38;5;241m1\u001b[39m:\n\u001b[1;32m--> 900\u001b[0m         \u001b[38;5;28;01mraise\u001b[39;00m \u001b[38;5;167;01mValueError\u001b[39;00m(\n\u001b[0;32m    901\u001b[0m             \u001b[38;5;124m\"\u001b[39m\u001b[38;5;124mExpected 2D array, got 1D array instead:\u001b[39m\u001b[38;5;130;01m\\n\u001b[39;00m\u001b[38;5;124marray=\u001b[39m\u001b[38;5;132;01m{}\u001b[39;00m\u001b[38;5;124m.\u001b[39m\u001b[38;5;130;01m\\n\u001b[39;00m\u001b[38;5;124m\"\u001b[39m\n\u001b[0;32m    902\u001b[0m             \u001b[38;5;124m\"\u001b[39m\u001b[38;5;124mReshape your data either using array.reshape(-1, 1) if \u001b[39m\u001b[38;5;124m\"\u001b[39m\n\u001b[0;32m    903\u001b[0m             \u001b[38;5;124m\"\u001b[39m\u001b[38;5;124myour data has a single feature or array.reshape(1, -1) \u001b[39m\u001b[38;5;124m\"\u001b[39m\n\u001b[0;32m    904\u001b[0m             \u001b[38;5;124m\"\u001b[39m\u001b[38;5;124mif it contains a single sample.\u001b[39m\u001b[38;5;124m\"\u001b[39m\u001b[38;5;241m.\u001b[39mformat(array)\n\u001b[0;32m    905\u001b[0m         )\n\u001b[0;32m    907\u001b[0m \u001b[38;5;28;01mif\u001b[39;00m dtype_numeric \u001b[38;5;129;01mand\u001b[39;00m array\u001b[38;5;241m.\u001b[39mdtype\u001b[38;5;241m.\u001b[39mkind \u001b[38;5;129;01min\u001b[39;00m \u001b[38;5;124m\"\u001b[39m\u001b[38;5;124mUSV\u001b[39m\u001b[38;5;124m\"\u001b[39m:\n\u001b[0;32m    908\u001b[0m     \u001b[38;5;28;01mraise\u001b[39;00m \u001b[38;5;167;01mValueError\u001b[39;00m(\n\u001b[0;32m    909\u001b[0m         \u001b[38;5;124m\"\u001b[39m\u001b[38;5;124mdtype=\u001b[39m\u001b[38;5;124m'\u001b[39m\u001b[38;5;124mnumeric\u001b[39m\u001b[38;5;124m'\u001b[39m\u001b[38;5;124m is not compatible with arrays of bytes/strings.\u001b[39m\u001b[38;5;124m\"\u001b[39m\n\u001b[0;32m    910\u001b[0m         \u001b[38;5;124m\"\u001b[39m\u001b[38;5;124mConvert your data to numeric values explicitly instead.\u001b[39m\u001b[38;5;124m\"\u001b[39m\n\u001b[0;32m    911\u001b[0m     )\n",
      "\u001b[1;31mValueError\u001b[0m: Expected 2D array, got 1D array instead:\narray=[ 0.00740225 -0.00060684  0.0154914   0.04185415  0.05642638 -0.05980025\n  0.03132426  0.11961728  0.01165303  0.05923001  0.01278996 -0.04524223\n  0.0364403   0.04902193 -0.00147517 -0.04096277 -0.01131244 -0.01951887\n -0.04076281 -0.07598071  0.03856166 -0.04882585 -0.00274985 -0.02446436\n -0.02778006 -0.06688131  0.03146665 -0.07429451 -0.06906028  0.01161224\n  0.02899863  0.02390042  0.04180937  0.01939093  0.04484257  0.05528368\n  0.08249737  0.00835865 -0.03301043 -0.07998975 -0.09213667 -0.03479086\n  0.01244231  0.05987412  0.08283348 -0.01573294 -0.01117092  0.0020028\n  0.08286034  0.05465185  0.00019511  0.00453544 -0.03557225 -0.07162321\n  0.02481771 -0.03808089  0.01969976 -0.04123593 -0.07496928  0.03352774\n -0.0404573   0.00595041 -0.01955279 -0.02137154 -0.06455904  0.02952619\n  0.00648533  0.11487453 -0.08920498  0.08306337 -0.01839175 -0.04759319\n  0.04477442 -0.00149957  0.02353897  0.03695494  0.0569111  -0.0859177\n -0.09718906 -0.00649465 -0.02300217 -0.03155258 -0.06043227  0.11022184\n -0.03384162 -0.00143999 -0.03676051  0.07143147  0.02624944 -0.01567427\n -0.00919802  0.07613655  0.05433426  0.1077731   0.12002726  0.07190107\n -0.00403843 -0.05702122  0.03162637  0.04444126 -0.0819058   0.10078648\n  0.00021429 -0.0165881  -0.09191566 -0.0951907   0.03802162  0.05976304\n -0.01076544 -0.07211087 -0.0128265  -0.10857219 -0.06422639 -0.03529445\n  0.01439636 -0.06657856  0.01825007 -0.08398705 -0.00248368 -0.03122997\n  0.03682434  0.08539966  0.06583509 -0.04682753 -0.02848773  0.03380731\n -0.03725749  0.00866445  0.01624778 -0.03114585  0.02512216  0.01259348\n -0.01954553 -0.0475889  -0.06519596  0.08057088 -0.07282612 -0.09304348\n -0.0107456  -0.11115655  0.05916814 -0.12956743 -0.08434959 -0.00455722\n -0.01782653 -0.02224425 -0.01641033  0.02498358 -0.01947048  0.00617522\n  0.03992978 -0.07317637  0.0055127   0.06522111 -0.1036697   0.08994379\n  0.04515226  0.02779987 -0.01812454  0.01168566  0.03658051  0.03900959\n -0.04175603 -0.01509227 -0.05955069  0.05654202  0.03453068 -0.05571755\n -0.01073673  0.06403903 -0.07421023  0.02393133  0.01203954 -0.05134349\n  0.05309188  0.04063322 -0.08010907  0.00771624 -0.00579119  0.04032541\n  0.00919525  0.02998818  0.00243715  0.00912639  0.04088658  0.02106404\n -0.04393486  0.00538762  0.07567865  0.00284737  0.01060646 -0.03230518\n -0.00551191 -0.02615348  0.03393815  0.01675438  0.05695494 -0.0576898\n -0.02886539 -0.00910961].\nReshape your data either using array.reshape(-1, 1) if your data has a single feature or array.reshape(1, -1) if it contains a single sample."
     ]
    }
   ],
   "source": [
    "clf = SVC(kernel = \"linear\",cache_size=4000).fit(Xtrain,Ytrain)\n",
    "clf.predict(StandardScaler().fit_transform(model.wv[word]))"
   ]
  }
 ],
 "metadata": {
  "kernelspec": {
   "display_name": "Python 3 (ipykernel)",
   "language": "python",
   "name": "python3"
  },
  "language_info": {
   "codemirror_mode": {
    "name": "ipython",
    "version": 3
   },
   "file_extension": ".py",
   "mimetype": "text/x-python",
   "name": "python",
   "nbconvert_exporter": "python",
   "pygments_lexer": "ipython3",
   "version": "3.10.4"
  }
 },
 "nbformat": 4,
 "nbformat_minor": 5
}
