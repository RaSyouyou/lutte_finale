{
 "cells": [
  {
   "cell_type": "code",
   "execution_count": 1,
   "id": "889e0a56",
   "metadata": {},
   "outputs": [],
   "source": [
    "import snscrape.modules.twitter as sntwitter\n",
    "import pandas as pd"
   ]
  },
  {
   "cell_type": "code",
   "execution_count": 10,
   "id": "9ffd60c4",
   "metadata": {},
   "outputs": [
    {
     "name": "stdout",
     "output_type": "stream",
     "text": [
      "                                                  Tweet\n",
      "0     フジテレビ、政治部記者が岸田政権の総理周辺を籠絡か : 市況かぶ全力２階建 https://...\n",
      "1     客観的な評価をしてるだけなのにクズ呼ばわり。あなた自身の岸田評価を述べればいいのに、それがで...\n",
      "2     @KonoBellYoko @MIKITO_777 都合の悪いことは黙ってるくせに、都合の良...\n",
      "3     @91days_cafe @ACES444Trigger @YahooNewsTopics ...\n",
      "4     @NaoKi39340431 なのでこうやってドテラ会員がやってる異常な行動を画像つきで発信...\n",
      "...                                                 ...\n",
      "4995  ＃札幌五輪招致に反対します \\n五輪は、お金の祭典です。\\n政治家、関係者のみ儲かる。税金が...\n",
      "4996  @tokyonewsroom すべてのベース。\\n政治家の経済政策が正しければ、電力需要は伸...\n",
      "4997  自民党薗浦衆議院議員辞職：政治資金パーティの収支を4千万円過少申告した罪で自民党を離党。以前...\n",
      "4998                     @konokunide 大丈夫です。ありがとうございました😸\n",
      "4999  @konotarogomame 政治に頼る前に、自らが率先してドナー登録し、自身の家族や友人...\n",
      "\n",
      "[5000 rows x 1 columns]\n"
     ]
    }
   ],
   "source": [
    "query = '政治'\n",
    "tweets = [] \n",
    "limit = 5000\n",
    "for tweet in sntwitter.TwitterSearchScraper(query).get_items():\n",
    "    \n",
    "#     print(vars(tweet))\n",
    "#     break\n",
    "    if len(tweets)==limit:\n",
    "        break\n",
    "    elif tweet.lang =='ja':\n",
    "#     else:\n",
    "        tweets.append([tweet.content])\n",
    "df = pd.DataFrame(tweets,columns = ['Tweet'])\n",
    "print(df)\n"
   ]
  },
  {
   "cell_type": "code",
   "execution_count": 11,
   "id": "f02c80d1",
   "metadata": {},
   "outputs": [],
   "source": [
    "df.to_csv('twitter_politics03.csv',encoding='utf-8')"
   ]
  }
 ],
 "metadata": {
  "kernelspec": {
   "display_name": "Python 3 (ipykernel)",
   "language": "python",
   "name": "python3"
  },
  "language_info": {
   "codemirror_mode": {
    "name": "ipython",
    "version": 3
   },
   "file_extension": ".py",
   "mimetype": "text/x-python",
   "name": "python",
   "nbconvert_exporter": "python",
   "pygments_lexer": "ipython3",
   "version": "3.10.4"
  }
 },
 "nbformat": 4,
 "nbformat_minor": 5
}
